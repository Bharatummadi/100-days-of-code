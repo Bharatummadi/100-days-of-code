{
 "cells": [
  {
   "cell_type": "code",
   "execution_count": 1,
   "metadata": {},
   "outputs": [
    {
     "name": "stdout",
     "output_type": "stream",
     "text": [
      "//upload.wikimedia.org/wikipedia/commons/thumb/d/df/Shihtzu_%28cropped%29.jpg/220px-Shihtzu_%28cropped%29.jpg\n",
      "\n",
      "//upload.wikimedia.org/wikipedia/commons/thumb/5/54/Adult_Shih_Tzu.jpg/176px-Adult_Shih_Tzu.jpg\n",
      "\n",
      "//upload.wikimedia.org/wikipedia/commons/thumb/7/7c/Shih-Tzu.jpg/153px-Shih-Tzu.jpg\n",
      "\n",
      "//upload.wikimedia.org/wikipedia/commons/thumb/b/b6/Two_red_and_white_haired_shih_tzu_littermates.jpg/200px-Two_red_and_white_haired_shih_tzu_littermates.jpg\n",
      "\n",
      "//upload.wikimedia.org/wikipedia/commons/thumb/2/28/ShihTzuPup01.jpg/133px-ShihTzuPup01.jpg\n",
      "\n",
      "//upload.wikimedia.org/wikipedia/commons/thumb/4/48/Shih-tzu-Fibi.jpg/135px-Shih-tzu-Fibi.jpg\n",
      "\n",
      "//upload.wikimedia.org/wikipedia/commons/thumb/5/5d/Shih_Tzu_puppy.jpg/180px-Shih_Tzu_puppy.jpg\n",
      "\n",
      "//upload.wikimedia.org/wikipedia/commons/thumb/d/da/Aussie-blacktri.jpg/24px-Aussie-blacktri.jpg\n",
      "\n"
     ]
    }
   ],
   "source": [
    "from urllib.request import urlopen\n",
    "from bs4 import BeautifulSoup\n",
    "import re\n",
    "\n",
    "html = urlopen('https://en.wikipedia.org/wiki/Shih_Tzu')\n",
    "bs = BeautifulSoup(html, 'html.parser')\n",
    "images = bs.find_all('img', {'src':re.compile('.jpg')})\n",
    "for image in images: \n",
    "    print(image['src']+'\\n')\n"
   ]
  },
  {
   "cell_type": "code",
   "execution_count": null,
   "metadata": {},
   "outputs": [],
   "source": []
  }
 ],
 "metadata": {
  "kernelspec": {
   "display_name": "Python 3",
   "language": "python",
   "name": "python3"
  },
  "language_info": {
   "codemirror_mode": {
    "name": "ipython",
    "version": 3
   },
   "file_extension": ".py",
   "mimetype": "text/x-python",
   "name": "python",
   "nbconvert_exporter": "python",
   "pygments_lexer": "ipython3",
   "version": "3.7.4"
  }
 },
 "nbformat": 4,
 "nbformat_minor": 2
}
