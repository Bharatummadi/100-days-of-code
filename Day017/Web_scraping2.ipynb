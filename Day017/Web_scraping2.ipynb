{
 "cells": [
  {
   "cell_type": "code",
   "execution_count": 1,
   "metadata": {},
   "outputs": [
    {
     "name": "stdout",
     "output_type": "stream",
     "text": [
      "The number of magnitude 4.5+ earthquakes detected worldwide by the USGS: 430\n"
     ]
    }
   ],
   "source": [
    "#https://bit.ly/2lVhlLX\n",
    "# landing page:\n",
    "# http://earthquake.usgs.gov/earthquakes/feed/v1.0/csv.php\n",
    "import csv\n",
    "import requests\n",
    "csvurl = 'http://earthquake.usgs.gov/earthquakes/feed/v1.0/summary/4.5_month.csv'\n",
    "rows = list(csv.DictReader(requests.get(csvurl).text.splitlines()))\n",
    "print(\"The number of magnitude 4.5+ earthquakes detected worldwide by the USGS:\", len(rows))\n",
    "  "
   ]
  },
  {
   "cell_type": "code",
   "execution_count": null,
   "metadata": {},
   "outputs": [],
   "source": []
  }
 ],
 "metadata": {
  "kernelspec": {
   "display_name": "Python 3",
   "language": "python",
   "name": "python3"
  },
  "language_info": {
   "codemirror_mode": {
    "name": "ipython",
    "version": 3
   },
   "file_extension": ".py",
   "mimetype": "text/x-python",
   "name": "python",
   "nbconvert_exporter": "python",
   "pygments_lexer": "ipython3",
   "version": "3.7.4"
  }
 },
 "nbformat": 4,
 "nbformat_minor": 2
}
