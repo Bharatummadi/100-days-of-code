{
 "cells": [
  {
   "cell_type": "code",
   "execution_count": 3,
   "metadata": {},
   "outputs": [
    {
     "name": "stdout",
     "output_type": "stream",
     "text": [
      "The name of the most recently added dataset on data.gov:\n",
      "Daily Census Tract-Level Ozone Concentrations, 2001-2005\n"
     ]
    }
   ],
   "source": [
    "from lxml import html\n",
    "import requests\n",
    "response = requests.get('http://catalog.data.gov/dataset?q=&sort=metadata_created+desc')\n",
    "doc = html.fromstring(response.text)\n",
    "title = doc.cssselect('h3.dataset-heading')[0].text_content()\n",
    "print(\"The name of the most recently added dataset on data.gov:\")\n",
    "print(title.strip())\n"
   ]
  },
  {
   "cell_type": "code",
   "execution_count": null,
   "metadata": {},
   "outputs": [],
   "source": []
  }
 ],
 "metadata": {
  "kernelspec": {
   "display_name": "Python 3",
   "language": "python",
   "name": "python3"
  },
  "language_info": {
   "codemirror_mode": {
    "name": "ipython",
    "version": 3
   },
   "file_extension": ".py",
   "mimetype": "text/x-python",
   "name": "python",
   "nbconvert_exporter": "python",
   "pygments_lexer": "ipython3",
   "version": "3.7.4"
  }
 },
 "nbformat": 4,
 "nbformat_minor": 2
}
